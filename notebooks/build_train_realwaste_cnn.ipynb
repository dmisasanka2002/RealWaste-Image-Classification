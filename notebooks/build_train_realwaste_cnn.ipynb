{
 "cells": [
  {
   "cell_type": "markdown",
   "id": "5687925e",
   "metadata": {},
   "source": [
    "## **Build CNN Model**"
   ]
  },
  {
   "cell_type": "code",
   "execution_count": 11,
   "id": "80a70746",
   "metadata": {},
   "outputs": [],
   "source": [
    "\"\"\"\n",
    "\n",
    "Defines the CNN architecture used in this project.\n",
    "\n",
    "Architecture (configurable at top):\n",
    " - Conv2D (x1 filters, m1 x m1 kernel, ReLU)\n",
    " - MaxPooling2D\n",
    " - Conv2D (x2 filters, m2 x m2 kernel, ReLU)\n",
    " - MaxPooling2D\n",
    " - Flatten\n",
    " - Dense (x3 units, ReLU)\n",
    " - Dropout (d)\n",
    " - Output Dense (K units, softmax)\n",
    "\n",
    "Design choices (brief):\n",
    " - ReLU: simple, fast, avoids vanishing gradient for shallow nets.\n",
    " - 3x3 kernels: effective and parameter-efficient for images.\n",
    " - 32/64 filters: sufficient for feature extraction on 128x128 input without overfitting.\n",
    " - Dropout 0.5: moderate regularization for a modest dataset.\n",
    "\"\"\"\n",
    "\n",
    "# -------------------------\n",
    "# Architecture parameters\n",
    "# -------------------------\n",
    "INPUT_SHAPE = (128, 128, 3)   # matches IMG_SIZE\n",
    "X1 = 32\n",
    "M1 = 3\n",
    "X2 = 64\n",
    "M2 = 3\n",
    "X3 = 128\n",
    "DROPOUT_RATE = 0.5\n",
    "# -------------------------"
   ]
  },
  {
   "cell_type": "code",
   "execution_count": 12,
   "id": "97ef61e6",
   "metadata": {},
   "outputs": [],
   "source": [
    "from tensorflow.keras import layers, models\n",
    "from tensorflow.keras import regularizers"
   ]
  },
  {
   "cell_type": "code",
   "execution_count": 13,
   "id": "c9b3bce9",
   "metadata": {},
   "outputs": [],
   "source": [
    "def build_basic_cnn(input_shape=INPUT_SHAPE, num_classes=9,\n",
    "                    x1=X1, m1=M1, x2=X2, m2=M2, x3=X3, d=DROPOUT_RATE):\n",
    "    model = models.Sequential()\n",
    "    model.add(layers.Conv2D(filters=x1, kernel_size=(m1, m1), activation='relu',\n",
    "                            padding='same', input_shape=input_shape, name=\"conv1\"))\n",
    "    model.add(layers.MaxPooling2D(pool_size=(2, 2), name=\"pool1\"))\n",
    "\n",
    "    model.add(layers.Conv2D(filters=x2, kernel_size=(m2, m2), activation='relu',\n",
    "                            padding='same', name=\"conv2\"))\n",
    "    model.add(layers.MaxPooling2D(pool_size=(2, 2), name=\"pool2\"))\n",
    "\n",
    "    model.add(layers.Flatten(name=\"flatten\"))\n",
    "    model.add(layers.Dense(x3, activation='relu', name=\"fc1\"))\n",
    "    model.add(layers.Dropout(d, name=\"dropout\"))\n",
    "    model.add(layers.Dense(num_classes, activation='softmax', name=\"output\"))\n",
    "    return model\n",
    "\n",
    "    # model = models.Sequential()\n",
    "    \n",
    "    # # First conv block\n",
    "    # model.add(layers.Conv2D(filters=x1, kernel_size=(m1, m1), activation='relu',\n",
    "    #                         padding='same', input_shape=input_shape,\n",
    "    #                         kernel_regularizer=regularizers.l2(1e-4), name=\"conv1\"))\n",
    "    # model.add(layers.MaxPooling2D(pool_size=(2,2), name=\"pool1\"))\n",
    "    # model.add(layers.Dropout(d, name=\"dropout1\"))\n",
    "    \n",
    "    # # Second conv block\n",
    "    # model.add(layers.Conv2D(filters=x2, kernel_size=(m2, m2), activation='relu',\n",
    "    #                         padding='same', kernel_regularizer=regularizers.l2(1e-4), name=\"conv2\"))\n",
    "    # model.add(layers.MaxPooling2D(pool_size=(2,2), name=\"pool2\"))\n",
    "    # model.add(layers.Dropout(d, name=\"dropout2\"))\n",
    "    \n",
    "    # # Flatten and dense\n",
    "    # model.add(layers.Flatten(name=\"flatten\"))\n",
    "    # model.add(layers.Dense(x3, activation='relu', kernel_regularizer=regularizers.l2(1e-4), name=\"fc1\"))\n",
    "    # model.add(layers.Dropout(d, name=\"dropout3\"))\n",
    "    \n",
    "    # model.add(layers.Dense(num_classes, activation='softmax', name=\"output\"))\n",
    "    # return model"
   ]
  },
  {
   "cell_type": "code",
   "execution_count": null,
   "id": "9a886ef3",
   "metadata": {},
   "outputs": [],
   "source": []
  },
  {
   "cell_type": "markdown",
   "id": "660060d6",
   "metadata": {},
   "source": [
    "## **Train and Evaluate**"
   ]
  },
  {
   "cell_type": "code",
   "execution_count": 14,
   "id": "a419a9aa",
   "metadata": {},
   "outputs": [],
   "source": [
    "\"\"\"\n",
    "- Loads prepared dataset (data/realwaste_prepared.npz)\n",
    "- Builds the CNN model (from 3_build_cnn_model)\n",
    "- Trains for 20 epochs with Adam (default learning rate 1e-3)\n",
    "- Saves model and training plots to outputs/\n",
    "- Evaluates on test set: test accuracy, confusion matrix, precision, recall\n",
    "- Saves evaluation results to outputs/\n",
    "\n",
    "Edit the top variables to change hyperparameters.\n",
    "\"\"\"\n",
    "\n",
    "# -------------------------\n",
    "# User-editable globals\n",
    "# -------------------------\n",
    "DATA_PREPARED = \"../data/realwaste_prepared.npz\"\n",
    "IMG_SIZE = 128\n",
    "BATCH_SIZE = 32   # global batch size; change here to affect training\n",
    "EPOCHS = 20\n",
    "LEARNING_RATE = 1e-3  # chosen for Adam\n",
    "OUTPUTS_DIR = \"../outputs\"\n",
    "# -------------------------"
   ]
  },
  {
   "cell_type": "code",
   "execution_count": 15,
   "id": "b0eec611",
   "metadata": {},
   "outputs": [],
   "source": [
    "import os\n",
    "import numpy as np\n",
    "import matplotlib.pyplot as plt\n",
    "import seaborn as sns\n",
    "from sklearn.metrics import confusion_matrix, classification_report, precision_score, recall_score\n",
    "from tensorflow.keras.optimizers import Adam\n",
    "from tensorflow.keras.callbacks import EarlyStopping, ReduceLROnPlateau\n",
    "from tensorflow.keras.models import load_model\n",
    "from tensorflow.keras import Sequential"
   ]
  },
  {
   "cell_type": "code",
   "execution_count": 16,
   "id": "b4e3a263",
   "metadata": {},
   "outputs": [],
   "source": [
    "def load_data(npz_path):\n",
    "    data = np.load(npz_path, allow_pickle=True)\n",
    "    X_train = data['X_train']\n",
    "    y_train = data['y_train']\n",
    "    X_val = data['X_val']\n",
    "    y_val = data['y_val']\n",
    "    X_test = data['X_test']\n",
    "    y_test = data['y_test']\n",
    "    classes = data['classes'].tolist()\n",
    "    class_weights = data['class_weights'].item()\n",
    "    return X_train, y_train, X_val, y_val, X_test, y_test, classes, class_weights"
   ]
  },
  {
   "cell_type": "code",
   "execution_count": 17,
   "id": "bd447a99",
   "metadata": {},
   "outputs": [],
   "source": [
    "def plot_history(history, out_png):\n",
    "    h = history.history\n",
    "    epochs = range(1, len(h['loss']) + 1)\n",
    "    plt.figure(figsize=(12,5))\n",
    "    plt.subplot(1,2,1)\n",
    "    plt.plot(epochs, h['loss'], label='train loss')\n",
    "    plt.plot(epochs, h['val_loss'], label='val loss')\n",
    "    plt.xlabel('Epoch'); plt.title('Loss'); plt.legend()\n",
    "    plt.subplot(1,2,2)\n",
    "    plt.plot(epochs, h['accuracy'], label='train acc')\n",
    "    plt.plot(epochs, h['val_accuracy'], label='val acc')\n",
    "    plt.xlabel('Epoch'); plt.title('Accuracy'); plt.legend()\n",
    "    plt.tight_layout()\n",
    "    plt.savefig(out_png)\n",
    "    plt.close()"
   ]
  },
  {
   "cell_type": "code",
   "execution_count": 18,
   "id": "1ffee36d",
   "metadata": {},
   "outputs": [],
   "source": [
    "def pretty_save_text(path, text):\n",
    "    with open(path, \"w\", encoding=\"utf-8\") as f:\n",
    "        f.write(text)"
   ]
  },
  {
   "cell_type": "code",
   "execution_count": 19,
   "id": "3d02da7c",
   "metadata": {},
   "outputs": [],
   "source": [
    "def train():\n",
    "    print(\"Loading prepared dataset:\", DATA_PREPARED)\n",
    "    X_train, y_train, X_val, y_val, X_test, y_test, classes, class_weights = load_data(DATA_PREPARED)\n",
    "\n",
    "    input_shape = X_train.shape[1:]\n",
    "    num_classes = len(classes)\n",
    "    print(\"Input shape:\", input_shape, \"Num classes:\", num_classes)\n",
    "\n",
    "    model = build_basic_cnn(input_shape=input_shape, num_classes=num_classes)\n",
    "    model.compile(optimizer=Adam(learning_rate=LEARNING_RATE),\n",
    "                  loss='categorical_crossentropy',\n",
    "                  metrics=['accuracy'])\n",
    "    model.summary()\n",
    "\n",
    "    # callbacks\n",
    "    es = EarlyStopping(monitor='val_loss', patience=6, restore_best_weights=True)\n",
    "    rlrop = ReduceLROnPlateau(monitor='val_loss', factor=0.5, patience=3)\n",
    "\n",
    "    # train_augmenter = Sequential([\n",
    "    #     layers.RandomFlip(\"horizontal\"),\n",
    "    #     layers.RandomRotation(0.1),\n",
    "    #     layers.RandomZoom(0.1),\n",
    "    #     layers.RandomContrast(0.1)\n",
    "    # ])\n",
    "\n",
    "    # # Apply augmentation\n",
    "    # X_train_aug = train_augmenter(X_train)\n",
    "\n",
    "\n",
    "    print(f\"Training for {EPOCHS} epochs with batch size {BATCH_SIZE} and Adam lr={LEARNING_RATE}\")\n",
    "    history = model.fit(\n",
    "        X_train, y_train,\n",
    "        validation_data=(X_val, y_val),\n",
    "        epochs=EPOCHS,\n",
    "        batch_size=BATCH_SIZE,\n",
    "        class_weight=class_weights,\n",
    "        callbacks=[es, rlrop],\n",
    "        verbose=2\n",
    "    )\n",
    "\n",
    "    # history = model.fit(\n",
    "    #     X_train_aug, y_train,\n",
    "    #     validation_data=(X_val, y_val),\n",
    "    #     epochs=EPOCHS,\n",
    "    #     batch_size=BATCH_SIZE,\n",
    "    #     class_weight=class_weights,\n",
    "    #     callbacks=[es, rlrop],\n",
    "    #     verbose=2\n",
    "    # )\n",
    "\n",
    "\n",
    "    # save model and history\n",
    "    model_path = os.path.join(OUTPUTS_DIR, \"realwaste_cnn_adam.h5\")\n",
    "    model.save(model_path)\n",
    "    print(\"Saved model to\", model_path)\n",
    "    np.savez_compressed(os.path.join(OUTPUTS_DIR, \"history_adam.npz\"), **history.history)\n",
    "\n",
    "    # plots\n",
    "    plot_history(history, os.path.join(OUTPUTS_DIR, \"train_val_loss_acc_adam.png\"))\n",
    "    print(\"Saved training plot to outputs/\")\n",
    "\n",
    "    # Evaluate on test\n",
    "    loss, acc = model.evaluate(X_test, y_test, verbose=0)\n",
    "    print(f\"Test Loss: {loss:.4f}  Test Accuracy: {acc:.4f}\")\n",
    "\n",
    "    # predictions\n",
    "    preds = model.predict(X_test)\n",
    "    y_pred = np.argmax(preds, axis=1)\n",
    "    y_true = np.argmax(y_test, axis=1)\n",
    "\n",
    "    # confusion matrix & classification report\n",
    "    cm = confusion_matrix(y_true, y_pred)\n",
    "    plt.figure(figsize=(10,8))\n",
    "    sns.heatmap(cm, annot=True, fmt='d', xticklabels=classes, yticklabels=classes, cmap=\"Blues\")\n",
    "    plt.xlabel(\"Predicted\"); plt.ylabel(\"True\"); plt.title(\"Confusion Matrix\")\n",
    "    plt.xticks(rotation=45)\n",
    "    plt.tight_layout()\n",
    "    cm_path = os.path.join(OUTPUTS_DIR, \"confusion_matrix_adam.png\")\n",
    "    plt.savefig(cm_path); plt.close()\n",
    "    print(\"Saved confusion matrix to\", cm_path)\n",
    "\n",
    "    report = classification_report(y_true, y_pred, target_names=classes, digits=4)\n",
    "    print(\"\\nClassification report:\\n\", report)\n",
    "\n",
    "    prec_macro = precision_score(y_true, y_pred, average='macro')\n",
    "    rec_macro = recall_score(y_true, y_pred, average='macro')\n",
    "\n",
    "    metrics_text = (\n",
    "        f\"Test accuracy: {acc:.4f}\\n\"\n",
    "        f\"Test loss: {loss:.4f}\\n\"\n",
    "        f\"Macro precision: {prec_macro:.4f}\\n\"\n",
    "        f\"Macro recall: {rec_macro:.4f}\\n\\n\"\n",
    "        f\"Classification report:\\n{report}\\n\"\n",
    "    )\n",
    "    pretty_save_text(os.path.join(OUTPUTS_DIR, \"evaluation_adam.txt\"), metrics_text)\n",
    "    print(\"Saved evaluation summary to outputs/evaluation_adam.txt\")\n"
   ]
  },
  {
   "cell_type": "code",
   "execution_count": 20,
   "id": "484146c4",
   "metadata": {},
   "outputs": [
    {
     "name": "stdout",
     "output_type": "stream",
     "text": [
      "Loading prepared dataset: ../data/realwaste_prepared.npz\n",
      "Input shape: (128, 128, 3) Num classes: 9\n"
     ]
    },
    {
     "name": "stderr",
     "output_type": "stream",
     "text": [
      "c:\\Users\\User\\AppData\\Local\\Programs\\Python\\Python312\\Lib\\site-packages\\keras\\src\\layers\\convolutional\\base_conv.py:107: UserWarning: Do not pass an `input_shape`/`input_dim` argument to a layer. When using Sequential models, prefer using an `Input(shape)` object as the first layer in the model instead.\n",
      "  super().__init__(activity_regularizer=activity_regularizer, **kwargs)\n"
     ]
    },
    {
     "data": {
      "text/html": [
       "<pre style=\"white-space:pre;overflow-x:auto;line-height:normal;font-family:Menlo,'DejaVu Sans Mono',consolas,'Courier New',monospace\"><span style=\"font-weight: bold\">Model: \"sequential_2\"</span>\n",
       "</pre>\n"
      ],
      "text/plain": [
       "\u001b[1mModel: \"sequential_2\"\u001b[0m\n"
      ]
     },
     "metadata": {},
     "output_type": "display_data"
    },
    {
     "data": {
      "text/html": [
       "<pre style=\"white-space:pre;overflow-x:auto;line-height:normal;font-family:Menlo,'DejaVu Sans Mono',consolas,'Courier New',monospace\">┏━━━━━━━━━━━━━━━━━━━━━━━━━━━━━━━━━┳━━━━━━━━━━━━━━━━━━━━━━━━┳━━━━━━━━━━━━━━━┓\n",
       "┃<span style=\"font-weight: bold\"> Layer (type)                    </span>┃<span style=\"font-weight: bold\"> Output Shape           </span>┃<span style=\"font-weight: bold\">       Param # </span>┃\n",
       "┡━━━━━━━━━━━━━━━━━━━━━━━━━━━━━━━━━╇━━━━━━━━━━━━━━━━━━━━━━━━╇━━━━━━━━━━━━━━━┩\n",
       "│ conv1 (<span style=\"color: #0087ff; text-decoration-color: #0087ff\">Conv2D</span>)                  │ (<span style=\"color: #00d7ff; text-decoration-color: #00d7ff\">None</span>, <span style=\"color: #00af00; text-decoration-color: #00af00\">128</span>, <span style=\"color: #00af00; text-decoration-color: #00af00\">128</span>, <span style=\"color: #00af00; text-decoration-color: #00af00\">32</span>)   │           <span style=\"color: #00af00; text-decoration-color: #00af00\">896</span> │\n",
       "├─────────────────────────────────┼────────────────────────┼───────────────┤\n",
       "│ pool1 (<span style=\"color: #0087ff; text-decoration-color: #0087ff\">MaxPooling2D</span>)            │ (<span style=\"color: #00d7ff; text-decoration-color: #00d7ff\">None</span>, <span style=\"color: #00af00; text-decoration-color: #00af00\">64</span>, <span style=\"color: #00af00; text-decoration-color: #00af00\">64</span>, <span style=\"color: #00af00; text-decoration-color: #00af00\">32</span>)     │             <span style=\"color: #00af00; text-decoration-color: #00af00\">0</span> │\n",
       "├─────────────────────────────────┼────────────────────────┼───────────────┤\n",
       "│ conv2 (<span style=\"color: #0087ff; text-decoration-color: #0087ff\">Conv2D</span>)                  │ (<span style=\"color: #00d7ff; text-decoration-color: #00d7ff\">None</span>, <span style=\"color: #00af00; text-decoration-color: #00af00\">64</span>, <span style=\"color: #00af00; text-decoration-color: #00af00\">64</span>, <span style=\"color: #00af00; text-decoration-color: #00af00\">64</span>)     │        <span style=\"color: #00af00; text-decoration-color: #00af00\">18,496</span> │\n",
       "├─────────────────────────────────┼────────────────────────┼───────────────┤\n",
       "│ pool2 (<span style=\"color: #0087ff; text-decoration-color: #0087ff\">MaxPooling2D</span>)            │ (<span style=\"color: #00d7ff; text-decoration-color: #00d7ff\">None</span>, <span style=\"color: #00af00; text-decoration-color: #00af00\">32</span>, <span style=\"color: #00af00; text-decoration-color: #00af00\">32</span>, <span style=\"color: #00af00; text-decoration-color: #00af00\">64</span>)     │             <span style=\"color: #00af00; text-decoration-color: #00af00\">0</span> │\n",
       "├─────────────────────────────────┼────────────────────────┼───────────────┤\n",
       "│ flatten (<span style=\"color: #0087ff; text-decoration-color: #0087ff\">Flatten</span>)               │ (<span style=\"color: #00d7ff; text-decoration-color: #00d7ff\">None</span>, <span style=\"color: #00af00; text-decoration-color: #00af00\">65536</span>)          │             <span style=\"color: #00af00; text-decoration-color: #00af00\">0</span> │\n",
       "├─────────────────────────────────┼────────────────────────┼───────────────┤\n",
       "│ fc1 (<span style=\"color: #0087ff; text-decoration-color: #0087ff\">Dense</span>)                     │ (<span style=\"color: #00d7ff; text-decoration-color: #00d7ff\">None</span>, <span style=\"color: #00af00; text-decoration-color: #00af00\">128</span>)            │     <span style=\"color: #00af00; text-decoration-color: #00af00\">8,388,736</span> │\n",
       "├─────────────────────────────────┼────────────────────────┼───────────────┤\n",
       "│ dropout (<span style=\"color: #0087ff; text-decoration-color: #0087ff\">Dropout</span>)               │ (<span style=\"color: #00d7ff; text-decoration-color: #00d7ff\">None</span>, <span style=\"color: #00af00; text-decoration-color: #00af00\">128</span>)            │             <span style=\"color: #00af00; text-decoration-color: #00af00\">0</span> │\n",
       "├─────────────────────────────────┼────────────────────────┼───────────────┤\n",
       "│ output (<span style=\"color: #0087ff; text-decoration-color: #0087ff\">Dense</span>)                  │ (<span style=\"color: #00d7ff; text-decoration-color: #00d7ff\">None</span>, <span style=\"color: #00af00; text-decoration-color: #00af00\">9</span>)              │         <span style=\"color: #00af00; text-decoration-color: #00af00\">1,161</span> │\n",
       "└─────────────────────────────────┴────────────────────────┴───────────────┘\n",
       "</pre>\n"
      ],
      "text/plain": [
       "┏━━━━━━━━━━━━━━━━━━━━━━━━━━━━━━━━━┳━━━━━━━━━━━━━━━━━━━━━━━━┳━━━━━━━━━━━━━━━┓\n",
       "┃\u001b[1m \u001b[0m\u001b[1mLayer (type)                   \u001b[0m\u001b[1m \u001b[0m┃\u001b[1m \u001b[0m\u001b[1mOutput Shape          \u001b[0m\u001b[1m \u001b[0m┃\u001b[1m \u001b[0m\u001b[1m      Param #\u001b[0m\u001b[1m \u001b[0m┃\n",
       "┡━━━━━━━━━━━━━━━━━━━━━━━━━━━━━━━━━╇━━━━━━━━━━━━━━━━━━━━━━━━╇━━━━━━━━━━━━━━━┩\n",
       "│ conv1 (\u001b[38;5;33mConv2D\u001b[0m)                  │ (\u001b[38;5;45mNone\u001b[0m, \u001b[38;5;34m128\u001b[0m, \u001b[38;5;34m128\u001b[0m, \u001b[38;5;34m32\u001b[0m)   │           \u001b[38;5;34m896\u001b[0m │\n",
       "├─────────────────────────────────┼────────────────────────┼───────────────┤\n",
       "│ pool1 (\u001b[38;5;33mMaxPooling2D\u001b[0m)            │ (\u001b[38;5;45mNone\u001b[0m, \u001b[38;5;34m64\u001b[0m, \u001b[38;5;34m64\u001b[0m, \u001b[38;5;34m32\u001b[0m)     │             \u001b[38;5;34m0\u001b[0m │\n",
       "├─────────────────────────────────┼────────────────────────┼───────────────┤\n",
       "│ conv2 (\u001b[38;5;33mConv2D\u001b[0m)                  │ (\u001b[38;5;45mNone\u001b[0m, \u001b[38;5;34m64\u001b[0m, \u001b[38;5;34m64\u001b[0m, \u001b[38;5;34m64\u001b[0m)     │        \u001b[38;5;34m18,496\u001b[0m │\n",
       "├─────────────────────────────────┼────────────────────────┼───────────────┤\n",
       "│ pool2 (\u001b[38;5;33mMaxPooling2D\u001b[0m)            │ (\u001b[38;5;45mNone\u001b[0m, \u001b[38;5;34m32\u001b[0m, \u001b[38;5;34m32\u001b[0m, \u001b[38;5;34m64\u001b[0m)     │             \u001b[38;5;34m0\u001b[0m │\n",
       "├─────────────────────────────────┼────────────────────────┼───────────────┤\n",
       "│ flatten (\u001b[38;5;33mFlatten\u001b[0m)               │ (\u001b[38;5;45mNone\u001b[0m, \u001b[38;5;34m65536\u001b[0m)          │             \u001b[38;5;34m0\u001b[0m │\n",
       "├─────────────────────────────────┼────────────────────────┼───────────────┤\n",
       "│ fc1 (\u001b[38;5;33mDense\u001b[0m)                     │ (\u001b[38;5;45mNone\u001b[0m, \u001b[38;5;34m128\u001b[0m)            │     \u001b[38;5;34m8,388,736\u001b[0m │\n",
       "├─────────────────────────────────┼────────────────────────┼───────────────┤\n",
       "│ dropout (\u001b[38;5;33mDropout\u001b[0m)               │ (\u001b[38;5;45mNone\u001b[0m, \u001b[38;5;34m128\u001b[0m)            │             \u001b[38;5;34m0\u001b[0m │\n",
       "├─────────────────────────────────┼────────────────────────┼───────────────┤\n",
       "│ output (\u001b[38;5;33mDense\u001b[0m)                  │ (\u001b[38;5;45mNone\u001b[0m, \u001b[38;5;34m9\u001b[0m)              │         \u001b[38;5;34m1,161\u001b[0m │\n",
       "└─────────────────────────────────┴────────────────────────┴───────────────┘\n"
      ]
     },
     "metadata": {},
     "output_type": "display_data"
    },
    {
     "data": {
      "text/html": [
       "<pre style=\"white-space:pre;overflow-x:auto;line-height:normal;font-family:Menlo,'DejaVu Sans Mono',consolas,'Courier New',monospace\"><span style=\"font-weight: bold\"> Total params: </span><span style=\"color: #00af00; text-decoration-color: #00af00\">8,409,289</span> (32.08 MB)\n",
       "</pre>\n"
      ],
      "text/plain": [
       "\u001b[1m Total params: \u001b[0m\u001b[38;5;34m8,409,289\u001b[0m (32.08 MB)\n"
      ]
     },
     "metadata": {},
     "output_type": "display_data"
    },
    {
     "data": {
      "text/html": [
       "<pre style=\"white-space:pre;overflow-x:auto;line-height:normal;font-family:Menlo,'DejaVu Sans Mono',consolas,'Courier New',monospace\"><span style=\"font-weight: bold\"> Trainable params: </span><span style=\"color: #00af00; text-decoration-color: #00af00\">8,409,289</span> (32.08 MB)\n",
       "</pre>\n"
      ],
      "text/plain": [
       "\u001b[1m Trainable params: \u001b[0m\u001b[38;5;34m8,409,289\u001b[0m (32.08 MB)\n"
      ]
     },
     "metadata": {},
     "output_type": "display_data"
    },
    {
     "data": {
      "text/html": [
       "<pre style=\"white-space:pre;overflow-x:auto;line-height:normal;font-family:Menlo,'DejaVu Sans Mono',consolas,'Courier New',monospace\"><span style=\"font-weight: bold\"> Non-trainable params: </span><span style=\"color: #00af00; text-decoration-color: #00af00\">0</span> (0.00 B)\n",
       "</pre>\n"
      ],
      "text/plain": [
       "\u001b[1m Non-trainable params: \u001b[0m\u001b[38;5;34m0\u001b[0m (0.00 B)\n"
      ]
     },
     "metadata": {},
     "output_type": "display_data"
    },
    {
     "name": "stdout",
     "output_type": "stream",
     "text": [
      "Training for 20 epochs with batch size 32 and Adam lr=0.001\n",
      "Epoch 1/20\n",
      "104/104 - 32s - 306ms/step - accuracy: 0.1639 - loss: 2.2536 - val_accuracy: 0.1823 - val_loss: 2.0049 - learning_rate: 0.0010\n",
      "Epoch 2/20\n",
      "104/104 - 30s - 293ms/step - accuracy: 0.3458 - loss: 1.7409 - val_accuracy: 0.4334 - val_loss: 1.6095 - learning_rate: 0.0010\n",
      "Epoch 3/20\n",
      "104/104 - 30s - 289ms/step - accuracy: 0.4474 - loss: 1.4810 - val_accuracy: 0.4727 - val_loss: 1.4097 - learning_rate: 0.0010\n",
      "Epoch 4/20\n",
      "104/104 - 29s - 281ms/step - accuracy: 0.4997 - loss: 1.3308 - val_accuracy: 0.4937 - val_loss: 1.3949 - learning_rate: 0.0010\n",
      "Epoch 5/20\n",
      "104/104 - 27s - 262ms/step - accuracy: 0.5331 - loss: 1.2193 - val_accuracy: 0.5288 - val_loss: 1.2960 - learning_rate: 0.0010\n",
      "Epoch 6/20\n",
      "104/104 - 28s - 270ms/step - accuracy: 0.5830 - loss: 1.0896 - val_accuracy: 0.5610 - val_loss: 1.2412 - learning_rate: 0.0010\n",
      "Epoch 7/20\n",
      "104/104 - 28s - 271ms/step - accuracy: 0.6167 - loss: 0.9621 - val_accuracy: 0.5694 - val_loss: 1.2597 - learning_rate: 0.0010\n",
      "Epoch 8/20\n",
      "104/104 - 28s - 272ms/step - accuracy: 0.6690 - loss: 0.8291 - val_accuracy: 0.5680 - val_loss: 1.2482 - learning_rate: 0.0010\n",
      "Epoch 9/20\n",
      "104/104 - 30s - 285ms/step - accuracy: 0.6885 - loss: 0.7965 - val_accuracy: 0.5652 - val_loss: 1.2695 - learning_rate: 0.0010\n",
      "Epoch 10/20\n",
      "104/104 - 31s - 296ms/step - accuracy: 0.7580 - loss: 0.6050 - val_accuracy: 0.5792 - val_loss: 1.2470 - learning_rate: 5.0000e-04\n",
      "Epoch 11/20\n",
      "104/104 - 33s - 322ms/step - accuracy: 0.7886 - loss: 0.5158 - val_accuracy: 0.5722 - val_loss: 1.3241 - learning_rate: 5.0000e-04\n",
      "Epoch 12/20\n",
      "104/104 - 38s - 362ms/step - accuracy: 0.8049 - loss: 0.4798 - val_accuracy: 0.5947 - val_loss: 1.2994 - learning_rate: 5.0000e-04\n"
     ]
    },
    {
     "name": "stderr",
     "output_type": "stream",
     "text": [
      "WARNING:absl:You are saving your model as an HDF5 file via `model.save()` or `keras.saving.save_model(model)`. This file format is considered legacy. We recommend using instead the native Keras format, e.g. `model.save('my_model.keras')` or `keras.saving.save_model(model, 'my_model.keras')`. \n"
     ]
    },
    {
     "name": "stdout",
     "output_type": "stream",
     "text": [
      "Saved model to ../outputs\\realwaste_cnn_adam.h5\n",
      "Saved training plot to outputs/\n",
      "Test Loss: 1.2198  Test Accuracy: 0.5680\n",
      "\u001b[1m23/23\u001b[0m \u001b[32m━━━━━━━━━━━━━━━━━━━━\u001b[0m\u001b[37m\u001b[0m \u001b[1m3s\u001b[0m 104ms/step\n",
      "Saved confusion matrix to ../outputs\\confusion_matrix_adam.png\n",
      "\n",
      "Classification report:\n",
      "                      precision    recall  f1-score   support\n",
      "\n",
      "          Cardboard     0.6429    0.5217    0.5760        69\n",
      "      Food Organics     0.6441    0.6129    0.6281        62\n",
      "              Glass     0.6761    0.7619    0.7164        63\n",
      "              Metal     0.5241    0.6441    0.5779       118\n",
      "Miscellaneous Trash     0.3765    0.4267    0.4000        75\n",
      "              Paper     0.7407    0.5333    0.6202        75\n",
      "            Plastic     0.5794    0.4493    0.5061       138\n",
      "      Textile Trash     0.3333    0.3125    0.3226        48\n",
      "         Vegetation     0.6374    0.8923    0.7436        65\n",
      "\n",
      "           accuracy                         0.5680       713\n",
      "          macro avg     0.5727    0.5727    0.5657       713\n",
      "       weighted avg     0.5749    0.5680    0.5641       713\n",
      "\n",
      "Saved evaluation summary to outputs/evaluation_adam.txt\n"
     ]
    }
   ],
   "source": [
    "if __name__ == \"__main__\":\n",
    "    train()"
   ]
  },
  {
   "cell_type": "code",
   "execution_count": null,
   "id": "d01b3c19",
   "metadata": {},
   "outputs": [],
   "source": []
  },
  {
   "cell_type": "markdown",
   "id": "ff07ca10",
   "metadata": {},
   "source": [
    "## **Optimizer Comparison**"
   ]
  },
  {
   "cell_type": "code",
   "execution_count": 21,
   "id": "9cccd6f2",
   "metadata": {},
   "outputs": [],
   "source": [
    "\"\"\"\n",
    "- Loads prepared data\n",
    "- Builds the same CNN architecture three times\n",
    "- Trains each with: Adam (lr=1e-3), SGD (lr=1e-2), SGD+Momentum (lr=1e-2, momentum=0.9)\n",
    "- Runs 20 epochs each (or stops early with EarlyStopping)\n",
    "- Saves a comparison plot and writes test accuracies to outputs/optimizer_comparison.txt\n",
    "\n",
    "Notes:\n",
    "- Keep BATCH_SIZE consistent with other scripts (edit variable below).\n",
    "\"\"\"\n",
    "\n",
    "# -------------------------\n",
    "# Globals\n",
    "# -------------------------\n",
    "DATA_PREPARED = \"../data/realwaste_prepared.npz\"\n",
    "BATCH_SIZE = 32\n",
    "EPOCHS = 20\n",
    "OUTPUTS_DIR = \"../outputs\"\n",
    "# -------------------------"
   ]
  },
  {
   "cell_type": "code",
   "execution_count": 22,
   "id": "2c7fbfb9",
   "metadata": {},
   "outputs": [],
   "source": [
    "import os\n",
    "import numpy as np\n",
    "import matplotlib.pyplot as plt\n",
    "from tensorflow.keras.optimizers import Adam, SGD\n",
    "from tensorflow.keras.callbacks import EarlyStopping\n",
    "from sklearn.metrics import accuracy_score"
   ]
  },
  {
   "cell_type": "code",
   "execution_count": 23,
   "id": "495a553d",
   "metadata": {},
   "outputs": [],
   "source": [
    "def load_data():\n",
    "    d = np.load(DATA_PREPARED, allow_pickle=True)\n",
    "    return d['X_train'], d['y_train'], d['X_val'], d['y_val'], d['X_test'], d['y_test'], d['classes'], d['class_weights'].item()\n"
   ]
  },
  {
   "cell_type": "code",
   "execution_count": 24,
   "id": "de5ca9d9",
   "metadata": {},
   "outputs": [],
   "source": [
    "def train_with_optimizer(opt_name, optimizer, X_train, y_train, X_val, y_val, class_weights):\n",
    "    num_classes = y_train.shape[1]\n",
    "    input_shape = X_train.shape[1:]\n",
    "    model = build_basic_cnn(input_shape=input_shape, num_classes=num_classes)\n",
    "    model.compile(optimizer=optimizer, loss='categorical_crossentropy', metrics=['accuracy'])\n",
    "    es = EarlyStopping(monitor='val_loss', patience=6, restore_best_weights=True)\n",
    "    hist = model.fit(X_train, y_train, validation_data=(X_val, y_val),\n",
    "                     epochs=EPOCHS, batch_size=BATCH_SIZE,\n",
    "                     class_weight=class_weights, callbacks=[es], verbose=2)\n",
    "    return model, hist"
   ]
  },
  {
   "cell_type": "code",
   "execution_count": 25,
   "id": "593af95b",
   "metadata": {},
   "outputs": [],
   "source": [
    "def pretty_save_text(path, text):\n",
    "    with open(path, \"w\", encoding=\"utf-8\") as f:\n",
    "        f.write(text)"
   ]
  },
  {
   "cell_type": "code",
   "execution_count": 26,
   "id": "1dd2d3e7",
   "metadata": {},
   "outputs": [],
   "source": [
    "def main():\n",
    "    X_train, y_train, X_val, y_val, X_test, y_test, classes, class_weights = load_data()\n",
    "    # prepare optimizers\n",
    "    optimizers = {\n",
    "        \"Adam\": Adam(learning_rate=1e-3),\n",
    "        \"SGD\": SGD(learning_rate=1e-2),\n",
    "        \"SGD+Momentum\": SGD(learning_rate=1e-2, momentum=0.9)\n",
    "    }\n",
    "\n",
    "    histories = {}\n",
    "    models = {}\n",
    "    test_accs = {}\n",
    "\n",
    "    for name, opt in optimizers.items():\n",
    "        print(\"\\n--- Training with\", name)\n",
    "        model, hist = train_with_optimizer(name, opt, X_train, y_train, X_val, y_val, class_weights)\n",
    "        models[name] = model\n",
    "        histories[name] = hist.history\n",
    "        # evaluate on test\n",
    "        preds = model.predict(X_test)\n",
    "        y_pred = np.argmax(preds, axis=1)\n",
    "        y_true = np.argmax(y_test, axis=1)\n",
    "        acc = accuracy_score(y_true, y_pred)\n",
    "        test_accs[name] = acc\n",
    "        # save model for later inspection\n",
    "        model.save(os.path.join(OUTPUTS_DIR, f\"model_{name.replace('+','_')}.h5\"))\n",
    "        print(f\"{name} test accuracy: {acc:.4f}\")\n",
    "\n",
    "    # plot validation accuracy curves for comparison\n",
    "    plt.figure(figsize=(8,6))\n",
    "    for name, h in histories.items():\n",
    "        plt.plot(h['val_accuracy'], label=name)\n",
    "    plt.xlabel(\"Epoch\"); plt.ylabel(\"Validation Accuracy\")\n",
    "    plt.title(\"Optimizer comparison (Validation Accuracy)\")\n",
    "    plt.legend()\n",
    "    plt.grid(True)\n",
    "    plt.tight_layout()\n",
    "    plt.savefig(os.path.join(OUTPUTS_DIR, \"optimizer_val_acc_comparison.png\"))\n",
    "    plt.close()\n",
    "    print(\"Saved optimizer comparison plot to outputs/optimizer_val_acc_comparison.png\")\n",
    "\n",
    "    # save summary text\n",
    "    text = \"Optimizer comparison results (test accuracy):\\n\"\n",
    "    for k, v in test_accs.items():\n",
    "        text += f\"{k}: {v:.4f}\\n\"\n",
    "    pretty_save_text(os.path.join(OUTPUTS_DIR, \"optimizer_comparison.txt\"), text)\n",
    "    print(\"Saved summary to outputs/optimizer_comparison.txt\")"
   ]
  },
  {
   "cell_type": "code",
   "execution_count": 27,
   "id": "8d117796",
   "metadata": {},
   "outputs": [
    {
     "name": "stdout",
     "output_type": "stream",
     "text": [
      "\n",
      "--- Training with Adam\n"
     ]
    },
    {
     "name": "stderr",
     "output_type": "stream",
     "text": [
      "c:\\Users\\User\\AppData\\Local\\Programs\\Python\\Python312\\Lib\\site-packages\\keras\\src\\layers\\convolutional\\base_conv.py:107: UserWarning: Do not pass an `input_shape`/`input_dim` argument to a layer. When using Sequential models, prefer using an `Input(shape)` object as the first layer in the model instead.\n",
      "  super().__init__(activity_regularizer=activity_regularizer, **kwargs)\n"
     ]
    },
    {
     "name": "stdout",
     "output_type": "stream",
     "text": [
      "Epoch 1/20\n",
      "104/104 - 33s - 314ms/step - accuracy: 0.2138 - loss: 2.1114 - val_accuracy: 0.3394 - val_loss: 1.8214\n",
      "Epoch 2/20\n",
      "104/104 - 27s - 256ms/step - accuracy: 0.3500 - loss: 1.7556 - val_accuracy: 0.4418 - val_loss: 1.6715\n",
      "Epoch 3/20\n",
      "104/104 - 28s - 265ms/step - accuracy: 0.4020 - loss: 1.6071 - val_accuracy: 0.4081 - val_loss: 1.6019\n",
      "Epoch 4/20\n",
      "104/104 - 27s - 261ms/step - accuracy: 0.4456 - loss: 1.4454 - val_accuracy: 0.4712 - val_loss: 1.4705\n",
      "Epoch 5/20\n",
      "104/104 - 27s - 256ms/step - accuracy: 0.5045 - loss: 1.2629 - val_accuracy: 0.4979 - val_loss: 1.3558\n",
      "Epoch 6/20\n",
      "104/104 - 27s - 264ms/step - accuracy: 0.5646 - loss: 1.1382 - val_accuracy: 0.5330 - val_loss: 1.3246\n",
      "Epoch 7/20\n",
      "104/104 - 27s - 263ms/step - accuracy: 0.5962 - loss: 1.0175 - val_accuracy: 0.5147 - val_loss: 1.3747\n",
      "Epoch 8/20\n",
      "104/104 - 29s - 279ms/step - accuracy: 0.6293 - loss: 0.9236 - val_accuracy: 0.5189 - val_loss: 1.3833\n",
      "Epoch 9/20\n",
      "104/104 - 29s - 275ms/step - accuracy: 0.6804 - loss: 0.7910 - val_accuracy: 0.5175 - val_loss: 1.4294\n",
      "Epoch 10/20\n",
      "104/104 - 31s - 302ms/step - accuracy: 0.7207 - loss: 0.6922 - val_accuracy: 0.5512 - val_loss: 1.4750\n",
      "Epoch 11/20\n",
      "104/104 - 33s - 314ms/step - accuracy: 0.7390 - loss: 0.6311 - val_accuracy: 0.5217 - val_loss: 1.5332\n",
      "Epoch 12/20\n",
      "104/104 - 30s - 285ms/step - accuracy: 0.7712 - loss: 0.5706 - val_accuracy: 0.5582 - val_loss: 1.4074\n",
      "\u001b[1m23/23\u001b[0m \u001b[32m━━━━━━━━━━━━━━━━━━━━\u001b[0m\u001b[37m\u001b[0m \u001b[1m1s\u001b[0m 55ms/step\n"
     ]
    },
    {
     "name": "stderr",
     "output_type": "stream",
     "text": [
      "WARNING:absl:You are saving your model as an HDF5 file via `model.save()` or `keras.saving.save_model(model)`. This file format is considered legacy. We recommend using instead the native Keras format, e.g. `model.save('my_model.keras')` or `keras.saving.save_model(model, 'my_model.keras')`. \n"
     ]
    },
    {
     "name": "stdout",
     "output_type": "stream",
     "text": [
      "Adam test accuracy: 0.5512\n",
      "\n",
      "--- Training with SGD\n"
     ]
    },
    {
     "name": "stderr",
     "output_type": "stream",
     "text": [
      "c:\\Users\\User\\AppData\\Local\\Programs\\Python\\Python312\\Lib\\site-packages\\keras\\src\\layers\\convolutional\\base_conv.py:107: UserWarning: Do not pass an `input_shape`/`input_dim` argument to a layer. When using Sequential models, prefer using an `Input(shape)` object as the first layer in the model instead.\n",
      "  super().__init__(activity_regularizer=activity_regularizer, **kwargs)\n"
     ]
    },
    {
     "name": "stdout",
     "output_type": "stream",
     "text": [
      "Epoch 1/20\n",
      "104/104 - 25s - 241ms/step - accuracy: 0.1392 - loss: 2.1909 - val_accuracy: 0.2104 - val_loss: 2.1690\n",
      "Epoch 2/20\n",
      "104/104 - 19s - 184ms/step - accuracy: 0.1744 - loss: 2.1377 - val_accuracy: 0.2777 - val_loss: 2.0759\n",
      "Epoch 3/20\n",
      "104/104 - 18s - 174ms/step - accuracy: 0.2189 - loss: 2.0766 - val_accuracy: 0.2847 - val_loss: 2.0413\n",
      "Epoch 4/20\n",
      "104/104 - 19s - 184ms/step - accuracy: 0.2390 - loss: 1.9976 - val_accuracy: 0.3717 - val_loss: 1.8883\n",
      "Epoch 5/20\n",
      "104/104 - 21s - 198ms/step - accuracy: 0.2793 - loss: 1.9369 - val_accuracy: 0.3703 - val_loss: 1.8299\n",
      "Epoch 6/20\n",
      "104/104 - 21s - 200ms/step - accuracy: 0.3073 - loss: 1.8697 - val_accuracy: 0.4404 - val_loss: 1.7156\n",
      "Epoch 7/20\n",
      "104/104 - 20s - 195ms/step - accuracy: 0.3416 - loss: 1.7861 - val_accuracy: 0.4011 - val_loss: 1.7226\n",
      "Epoch 8/20\n",
      "104/104 - 22s - 209ms/step - accuracy: 0.3569 - loss: 1.7250 - val_accuracy: 0.4797 - val_loss: 1.5978\n",
      "Epoch 9/20\n",
      "104/104 - 20s - 197ms/step - accuracy: 0.3942 - loss: 1.6600 - val_accuracy: 0.3815 - val_loss: 1.7234\n",
      "Epoch 10/20\n",
      "104/104 - 22s - 208ms/step - accuracy: 0.4134 - loss: 1.6085 - val_accuracy: 0.4348 - val_loss: 1.5652\n",
      "Epoch 11/20\n",
      "104/104 - 20s - 192ms/step - accuracy: 0.4278 - loss: 1.5708 - val_accuracy: 0.4909 - val_loss: 1.4622\n",
      "Epoch 12/20\n",
      "104/104 - 19s - 185ms/step - accuracy: 0.4492 - loss: 1.5038 - val_accuracy: 0.5063 - val_loss: 1.4361\n",
      "Epoch 13/20\n",
      "104/104 - 28s - 266ms/step - accuracy: 0.4687 - loss: 1.4591 - val_accuracy: 0.4909 - val_loss: 1.4287\n",
      "Epoch 14/20\n",
      "104/104 - 28s - 265ms/step - accuracy: 0.4826 - loss: 1.4139 - val_accuracy: 0.4993 - val_loss: 1.3773\n",
      "Epoch 15/20\n",
      "104/104 - 28s - 267ms/step - accuracy: 0.4982 - loss: 1.3736 - val_accuracy: 0.5161 - val_loss: 1.4212\n",
      "Epoch 16/20\n",
      "104/104 - 26s - 254ms/step - accuracy: 0.4985 - loss: 1.3514 - val_accuracy: 0.5484 - val_loss: 1.3096\n",
      "Epoch 17/20\n",
      "104/104 - 29s - 279ms/step - accuracy: 0.5096 - loss: 1.3207 - val_accuracy: 0.5610 - val_loss: 1.2835\n",
      "Epoch 18/20\n",
      "104/104 - 24s - 229ms/step - accuracy: 0.5310 - loss: 1.2633 - val_accuracy: 0.5077 - val_loss: 1.3683\n",
      "Epoch 19/20\n",
      "104/104 - 28s - 270ms/step - accuracy: 0.5343 - loss: 1.2543 - val_accuracy: 0.5007 - val_loss: 1.3875\n",
      "Epoch 20/20\n",
      "104/104 - 73s - 703ms/step - accuracy: 0.5511 - loss: 1.2062 - val_accuracy: 0.4951 - val_loss: 1.3759\n",
      "\u001b[1m23/23\u001b[0m \u001b[32m━━━━━━━━━━━━━━━━━━━━\u001b[0m\u001b[37m\u001b[0m \u001b[1m3s\u001b[0m 108ms/step\n"
     ]
    },
    {
     "name": "stderr",
     "output_type": "stream",
     "text": [
      "WARNING:absl:You are saving your model as an HDF5 file via `model.save()` or `keras.saving.save_model(model)`. This file format is considered legacy. We recommend using instead the native Keras format, e.g. `model.save('my_model.keras')` or `keras.saving.save_model(model, 'my_model.keras')`. \n"
     ]
    },
    {
     "name": "stdout",
     "output_type": "stream",
     "text": [
      "SGD test accuracy: 0.5666\n",
      "\n",
      "--- Training with SGD+Momentum\n"
     ]
    },
    {
     "name": "stderr",
     "output_type": "stream",
     "text": [
      "c:\\Users\\User\\AppData\\Local\\Programs\\Python\\Python312\\Lib\\site-packages\\keras\\src\\layers\\convolutional\\base_conv.py:107: UserWarning: Do not pass an `input_shape`/`input_dim` argument to a layer. When using Sequential models, prefer using an `Input(shape)` object as the first layer in the model instead.\n",
      "  super().__init__(activity_regularizer=activity_regularizer, **kwargs)\n"
     ]
    },
    {
     "name": "stdout",
     "output_type": "stream",
     "text": [
      "Epoch 1/20\n",
      "104/104 - 41s - 393ms/step - accuracy: 0.1425 - loss: 2.1653 - val_accuracy: 0.2833 - val_loss: 2.0169\n",
      "Epoch 2/20\n",
      "104/104 - 40s - 382ms/step - accuracy: 0.2111 - loss: 2.0742 - val_accuracy: 0.2020 - val_loss: 2.0731\n",
      "Epoch 3/20\n",
      "104/104 - 41s - 393ms/step - accuracy: 0.2195 - loss: 2.0412 - val_accuracy: 0.3212 - val_loss: 1.8657\n",
      "Epoch 4/20\n",
      "104/104 - 29s - 276ms/step - accuracy: 0.2850 - loss: 1.9117 - val_accuracy: 0.3885 - val_loss: 1.7740\n",
      "Epoch 5/20\n",
      "104/104 - 33s - 319ms/step - accuracy: 0.3082 - loss: 1.8520 - val_accuracy: 0.2973 - val_loss: 1.9758\n",
      "Epoch 6/20\n",
      "104/104 - 33s - 314ms/step - accuracy: 0.3241 - loss: 1.8391 - val_accuracy: 0.3268 - val_loss: 1.8003\n",
      "Epoch 7/20\n",
      "104/104 - 27s - 263ms/step - accuracy: 0.3731 - loss: 1.6864 - val_accuracy: 0.3773 - val_loss: 1.6392\n",
      "Epoch 8/20\n",
      "104/104 - 26s - 247ms/step - accuracy: 0.3434 - loss: 1.7643 - val_accuracy: 0.3941 - val_loss: 1.6254\n",
      "Epoch 9/20\n",
      "104/104 - 21s - 206ms/step - accuracy: 0.3824 - loss: 1.6574 - val_accuracy: 0.4123 - val_loss: 1.5965\n",
      "Epoch 10/20\n",
      "104/104 - 19s - 186ms/step - accuracy: 0.4242 - loss: 1.5669 - val_accuracy: 0.4236 - val_loss: 1.5985\n",
      "Epoch 11/20\n",
      "104/104 - 19s - 184ms/step - accuracy: 0.4522 - loss: 1.4447 - val_accuracy: 0.4642 - val_loss: 1.4737\n",
      "Epoch 12/20\n",
      "104/104 - 23s - 221ms/step - accuracy: 0.5081 - loss: 1.3142 - val_accuracy: 0.5217 - val_loss: 1.3414\n",
      "Epoch 13/20\n",
      "104/104 - 50s - 478ms/step - accuracy: 0.5616 - loss: 1.2054 - val_accuracy: 0.5189 - val_loss: 1.3299\n",
      "Epoch 14/20\n",
      "104/104 - 28s - 270ms/step - accuracy: 0.5689 - loss: 1.1427 - val_accuracy: 0.5680 - val_loss: 1.2859\n",
      "Epoch 15/20\n",
      "104/104 - 34s - 329ms/step - accuracy: 0.6055 - loss: 1.0345 - val_accuracy: 0.5512 - val_loss: 1.2790\n",
      "Epoch 16/20\n",
      "104/104 - 58s - 556ms/step - accuracy: 0.6500 - loss: 0.9290 - val_accuracy: 0.5063 - val_loss: 1.3856\n",
      "Epoch 17/20\n",
      "104/104 - 37s - 360ms/step - accuracy: 0.6708 - loss: 0.8333 - val_accuracy: 0.5849 - val_loss: 1.3006\n",
      "Epoch 18/20\n",
      "104/104 - 32s - 312ms/step - accuracy: 0.7180 - loss: 0.7245 - val_accuracy: 0.5792 - val_loss: 1.2419\n",
      "Epoch 19/20\n",
      "104/104 - 25s - 241ms/step - accuracy: 0.7664 - loss: 0.6226 - val_accuracy: 0.6031 - val_loss: 1.3000\n",
      "Epoch 20/20\n",
      "104/104 - 32s - 303ms/step - accuracy: 0.7736 - loss: 0.5872 - val_accuracy: 0.5820 - val_loss: 1.4139\n",
      "\u001b[1m23/23\u001b[0m \u001b[32m━━━━━━━━━━━━━━━━━━━━\u001b[0m\u001b[37m\u001b[0m \u001b[1m2s\u001b[0m 77ms/step\n"
     ]
    },
    {
     "name": "stderr",
     "output_type": "stream",
     "text": [
      "WARNING:absl:You are saving your model as an HDF5 file via `model.save()` or `keras.saving.save_model(model)`. This file format is considered legacy. We recommend using instead the native Keras format, e.g. `model.save('my_model.keras')` or `keras.saving.save_model(model, 'my_model.keras')`. \n"
     ]
    },
    {
     "name": "stdout",
     "output_type": "stream",
     "text": [
      "SGD+Momentum test accuracy: 0.6073\n",
      "Saved optimizer comparison plot to outputs/optimizer_val_acc_comparison.png\n",
      "Saved summary to outputs/optimizer_comparison.txt\n"
     ]
    }
   ],
   "source": [
    "if __name__ == \"__main__\":\n",
    "    main()"
   ]
  },
  {
   "cell_type": "code",
   "execution_count": null,
   "id": "0463acf2",
   "metadata": {},
   "outputs": [],
   "source": []
  }
 ],
 "metadata": {
  "kernelspec": {
   "display_name": "Python 3",
   "language": "python",
   "name": "python3"
  },
  "language_info": {
   "codemirror_mode": {
    "name": "ipython",
    "version": 3
   },
   "file_extension": ".py",
   "mimetype": "text/x-python",
   "name": "python",
   "nbconvert_exporter": "python",
   "pygments_lexer": "ipython3",
   "version": "3.12.10"
  }
 },
 "nbformat": 4,
 "nbformat_minor": 5
}
